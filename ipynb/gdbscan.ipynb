{
 "cells": [
  {
   "cell_type": "markdown",
   "metadata": {},
   "source": [
    "Guilherme Andrade, Gabriel Ramos, Daniel Madeira, Rafael Sachetto, Renato Ferreira, Leonardo Rocha, G-DBSCAN: A GPU Accelerated Algorithm for Density-based Clustering, Procedia Computer Science, Volume 18, 2013, Pages 369-378, ISSN 1877-0509, http://dx.doi.org/10.1016/j.procs.2013.05.200.\n",
    "(http://www.sciencedirect.com/science/article/pii/S1877050913003438)\n",
    "\n",
    "Abstract: With the advent of Web 2.0, we see a new and differentiated scenario: there is more data than that can be effectively analyzed. Organizing this data has become one of the biggest problems in Computer Science. Many algorithms have been proposed for this purpose, highlighting those related to the Data Mining area, specifically the clustering algorithms. However, these algo- rithms are still a computational challenge because of the volume of data that needs to be processed. We found in the literature some proposals to make these algorithms feasible, and, recently, those related to parallelization on graphics processing units (GPUs) have presented good results. In this work we present the G-DBSCAN, a GPU parallel version of one of the most widely used clustering algorithms, the DBSCAN. Although there are other parallel versions of this algorithm, our technique distinguishes itself by the simplicity with which the data are indexed, using graphs, allowing various parallelization opportu- nities to be explored. In our evaluation we show that the G-DBSCAN using GPU, can be over 100x faster than its sequential version using CPU.\n",
    "Keywords: Clustering; Dbscan; Parallel computing; GPU\n"
   ]
  },
  {
   "cell_type": "code",
   "execution_count": 1,
   "metadata": {
    "collapsed": true
   },
   "outputs": [],
   "source": [
    "import numpy as np"
   ]
  },
  {
   "cell_type": "code",
   "execution_count": 137,
   "metadata": {
    "collapsed": true
   },
   "outputs": [],
   "source": [
    "eps = 0.3\n",
    "minpts = 10"
   ]
  },
  {
   "cell_type": "code",
   "execution_count": 157,
   "metadata": {
    "collapsed": false
   },
   "outputs": [],
   "source": [
    "from sklearn.datasets import make_blobs\n",
    "\n",
    "centers = [[1, 1], [-1, -1], [1, -1]]\n",
    "d, labels_true = make_blobs(n_samples=250, centers=centers, cluster_std=0.3,\n",
    "                            random_state=0)"
   ]
  },
  {
   "cell_type": "code",
   "execution_count": 158,
   "metadata": {
    "collapsed": false
   },
   "outputs": [],
   "source": [
    "from sklearn.metrics.pairwise import euclidean_distances\n",
    "\n",
    "core = np.zeros(d.shape[0])\n",
    "\n",
    "Va = np.zeros( (d.shape[0], 2) )\n",
    "\n",
    "for i in range(d.shape[0]):\n",
    "    num_negh = 0\n",
    "    for j in range(d.shape[0]):\n",
    "        dist = euclidean_distances(d[i].reshape(1, -1), d[j].reshape(1,-1))[0]\n",
    "        \n",
    "        if dist < eps:\n",
    "            num_negh += 1\n",
    "    \n",
    "    Va[i][0] = num_negh\n",
    "    \n",
    "    if num_negh >= minpts:\n",
    "        core[i] = 1"
   ]
  },
  {
   "cell_type": "code",
   "execution_count": 159,
   "metadata": {
    "collapsed": false
   },
   "outputs": [
    {
     "data": {
      "text/plain": [
       "array([ 28.,  10.,  25.,   7.,   6.,  18.,  12.,  10.,  29.,  23.,  27.,\n",
       "        12.,  23.,  33.,  31.,  10.,   8.,  13.,  33.,  31.,  10.,  12.,\n",
       "         3.,  31.,  14.,   8.,  32.,  33.,  18.,  37.,  25.,  17.,  25.,\n",
       "        26.,  17.,   9.,  11.,  18.,  12.,  24.,  26.,  14.,  20.,  14.,\n",
       "         2.,  15.,  23.,  21.,  24.,  28.,  19.,  22.,   9.,   2.,  29.,\n",
       "        17.,  23.,  20.,   5.,  30.,  24.,  17.,  17.,   6.,  18.,  36.,\n",
       "        28.,  32.,  18.,  27.,  32.,  31.,  29.,  23.,  31.,   8.,   7.,\n",
       "         5.,  29.,  32.,  12.,  31.,  30.,  12.,  10.,  11.,  19.,  15.,\n",
       "        22.,  26.,  10.,   9.,   7.,   9.,  34.,  24.,   2.,   5.,  38.,\n",
       "         6.,  30.,  24.,  23.,  37.,  21.,  24.,  27.,  33.,  12.,  28.,\n",
       "        23.,   5.,  21.,  24.,  26.,  25.,  11.,  11.,  17.,  10.,  22.,\n",
       "        32.,   2.,  27.,   3.,  28.,   9.,  20.,  12.,  19.,   6.,  22.,\n",
       "        34.,  29.,   9.,   5.,  15.,  31.,  14.,  11.,   3.,  21.,  11.,\n",
       "        31.,  32.,  26.,   4.,  18.,  27.,  14.,  21.,  20.,  22.,  22.,\n",
       "         1.,  22.,   2.,  27.,  29.,   5.,  17.,  21.,  32.,   1.,   9.,\n",
       "        29.,  10.,  14.,  25.,   7.,  22.,  18.,  24.,   1.,  11.,  31.,\n",
       "        15.,  23.,   3.,  28.,  18.,  15.,  28.,  36.,   6.,   9.,   2.,\n",
       "        35.,  19.,  28.,  16.,   9.,  19.,  23.,   3.,  35.,  27.,   3.,\n",
       "        14.,  27.,  14.,  36.,  30.,   6.,  37.,   8.,  27.,  13.,  20.,\n",
       "        32.,   5.,  14.,  21.,  28.,  36.,  22.,  24.,  24.,  19.,  29.,\n",
       "        25.,  16.,  18.,  29.,  22.,  31.,  16.,  36.,  33.,   2.,  23.,\n",
       "        14.,  32.,  20.,  11.,  21.,  31.,   3.,  19.,  17.,  15.,  27.,\n",
       "        21.,   6.,  11.,  19.,  22.,  34.,   8.,  20.])"
      ]
     },
     "execution_count": 159,
     "metadata": {},
     "output_type": "execute_result"
    }
   ],
   "source": [
    "Va[:,0]"
   ]
  },
  {
   "cell_type": "code",
   "execution_count": 160,
   "metadata": {
    "collapsed": false
   },
   "outputs": [],
   "source": [
    "Va[:,1] = np.cumsum(Va[:,0])-Va[:,0]"
   ]
  },
  {
   "cell_type": "code",
   "execution_count": 161,
   "metadata": {
    "collapsed": false
   },
   "outputs": [],
   "source": [
    "Ea = np.zeros( int(Va[:,1][-1]) + int(Va[:,0][-1]) )"
   ]
  },
  {
   "cell_type": "code",
   "execution_count": 162,
   "metadata": {
    "collapsed": false,
    "scrolled": false
   },
   "outputs": [],
   "source": [
    "for i in range(d.shape[0]):\n",
    "    ni = 0\n",
    "    for j in range(d.shape[0]):\n",
    "        dist = euclidean_distances(d[i].reshape(1, -1), d[j].reshape(1,-1))[0]\n",
    "        if dist < eps:\n",
    "            #print(i, j, Va[i], int(Va[i][1])+ni)\n",
    "            Ea[int(Va[i][1])+ni] = j\n",
    "            ni += 1"
   ]
  },
  {
   "cell_type": "code",
   "execution_count": 163,
   "metadata": {
    "collapsed": false
   },
   "outputs": [
    {
     "data": {
      "text/plain": [
       "array([   0.,   31.,   33., ...,  232.,  247.,  249.])"
      ]
     },
     "execution_count": 163,
     "metadata": {},
     "output_type": "execute_result"
    }
   ],
   "source": [
    "Ea"
   ]
  },
  {
   "cell_type": "code",
   "execution_count": 171,
   "metadata": {
    "collapsed": false,
    "scrolled": true
   },
   "outputs": [
    {
     "name": "stdout",
     "output_type": "stream",
     "text": [
      "Core  0\n",
      "Count nonzero 21\n",
      "Count nonzero 3\n",
      "Count nonzero 0\n",
      "Cluster assign 0 0\n",
      "Cluster assign 1 0\n",
      "Cluster assign 3 0\n",
      "Cluster assign 5 0\n",
      "Cluster assign 6 0\n",
      "Cluster assign 11 0\n",
      "Cluster assign 15 0\n",
      "Cluster assign 20 0\n",
      "Cluster assign 21 0\n",
      "Cluster assign 24 0\n",
      "Cluster assign 25 0\n",
      "Cluster assign 28 0\n",
      "Cluster assign 31 0\n",
      "Cluster assign 33 0\n",
      "Cluster assign 35 0\n",
      "Cluster assign 37 0\n",
      "Cluster assign 42 0\n",
      "Cluster assign 43 0\n",
      "Cluster assign 45 0\n",
      "Cluster assign 46 0\n",
      "Cluster assign 47 0\n",
      "Cluster assign 52 0\n",
      "Cluster assign 54 0\n",
      "Cluster assign 56 0\n",
      "Cluster assign 58 0\n",
      "Cluster assign 59 0\n",
      "Cluster assign 60 0\n",
      "Cluster assign 61 0\n",
      "Cluster assign 63 0\n",
      "Cluster assign 66 0\n",
      "Cluster assign 72 0\n",
      "Cluster assign 73 0\n",
      "Cluster assign 74 0\n",
      "Cluster assign 75 0\n",
      "Cluster assign 78 0\n",
      "Cluster assign 81 0\n",
      "Cluster assign 84 0\n",
      "Cluster assign 87 0\n",
      "Cluster assign 90 0\n",
      "Cluster assign 93 0\n",
      "Cluster assign 94 0\n",
      "Cluster assign 100 0\n",
      "Cluster assign 101 0\n",
      "Cluster assign 105 0\n",
      "Cluster assign 106 0\n",
      "Cluster assign 111 0\n",
      "Cluster assign 115 0\n",
      "Cluster assign 118 0\n",
      "Cluster assign 119 0\n",
      "Cluster assign 122 0\n",
      "Cluster assign 124 0\n",
      "Cluster assign 129 0\n",
      "Cluster assign 130 0\n",
      "Cluster assign 131 0\n",
      "Cluster assign 135 0\n",
      "Cluster assign 136 0\n",
      "Cluster assign 138 0\n",
      "Cluster assign 140 0\n",
      "Cluster assign 147 0\n",
      "Cluster assign 148 0\n",
      "Cluster assign 151 0\n",
      "Cluster assign 160 0\n",
      "Cluster assign 162 0\n",
      "Cluster assign 167 0\n",
      "Cluster assign 172 0\n",
      "Cluster assign 176 0\n",
      "Cluster assign 182 0\n",
      "Cluster assign 184 0\n",
      "Cluster assign 193 0\n",
      "Cluster assign 198 0\n",
      "Cluster assign 199 0\n",
      "Cluster assign 203 0\n",
      "Cluster assign 208 0\n",
      "Cluster assign 210 0\n",
      "Cluster assign 211 0\n",
      "Cluster assign 212 0\n",
      "Cluster assign 215 0\n",
      "Cluster assign 216 0\n",
      "Cluster assign 219 0\n",
      "Cluster assign 237 0\n",
      "Cluster assign 242 0\n",
      "Cluster assign 245 0\n",
      "Cluster assign 246 0\n",
      "Cluster assign 248 0\n",
      "Core  2\n",
      "Count nonzero 7\n",
      "Count nonzero 0\n",
      "Cluster assign 2 1\n",
      "Cluster assign 4 1\n",
      "Cluster assign 8 1\n",
      "Cluster assign 12 1\n",
      "Cluster assign 14 1\n",
      "Cluster assign 17 1\n",
      "Cluster assign 19 1\n",
      "Cluster assign 22 1\n",
      "Cluster assign 32 1\n",
      "Cluster assign 38 1\n",
      "Cluster assign 39 1\n",
      "Cluster assign 40 1\n",
      "Cluster assign 48 1\n",
      "Cluster assign 49 1\n",
      "Cluster assign 51 1\n",
      "Cluster assign 53 1\n",
      "Cluster assign 62 1\n",
      "Cluster assign 64 1\n",
      "Cluster assign 68 1\n",
      "Cluster assign 69 1\n",
      "Cluster assign 70 1\n",
      "Cluster assign 76 1\n",
      "Cluster assign 79 1\n",
      "Cluster assign 80 1\n",
      "Cluster assign 82 1\n",
      "Cluster assign 83 1\n",
      "Cluster assign 88 1\n",
      "Cluster assign 89 1\n",
      "Cluster assign 95 1\n",
      "Cluster assign 97 1\n",
      "Cluster assign 99 1\n",
      "Cluster assign 108 1\n",
      "Cluster assign 113 1\n",
      "Cluster assign 117 1\n",
      "Cluster assign 123 1\n",
      "Cluster assign 125 1\n",
      "Cluster assign 126 1\n",
      "Cluster assign 128 1\n",
      "Cluster assign 132 1\n",
      "Cluster assign 133 1\n",
      "Cluster assign 139 1\n",
      "Cluster assign 142 1\n",
      "Cluster assign 143 1\n",
      "Cluster assign 144 1\n",
      "Cluster assign 145 1\n",
      "Cluster assign 146 1\n",
      "Cluster assign 149 1\n",
      "Cluster assign 150 1\n",
      "Cluster assign 155 1\n",
      "Cluster assign 157 1\n",
      "Cluster assign 158 1\n",
      "Cluster assign 165 1\n",
      "Cluster assign 168 1\n",
      "Cluster assign 169 1\n",
      "Cluster assign 170 1\n",
      "Cluster assign 171 1\n",
      "Cluster assign 175 1\n",
      "Cluster assign 177 1\n",
      "Cluster assign 178 1\n",
      "Cluster assign 183 1\n",
      "Cluster assign 185 1\n",
      "Cluster assign 188 1\n",
      "Cluster assign 189 1\n",
      "Cluster assign 190 1\n",
      "Cluster assign 192 1\n",
      "Cluster assign 196 1\n",
      "Cluster assign 200 1\n",
      "Cluster assign 205 1\n",
      "Cluster assign 206 1\n",
      "Cluster assign 218 1\n",
      "Cluster assign 220 1\n",
      "Cluster assign 224 1\n",
      "Cluster assign 226 1\n",
      "Cluster assign 228 1\n",
      "Cluster assign 230 1\n",
      "Cluster assign 233 1\n",
      "Cluster assign 235 1\n",
      "Cluster assign 239 1\n",
      "Cluster assign 240 1\n",
      "Cluster assign 243 1\n",
      "Core  7\n",
      "Count nonzero 10\n",
      "Count nonzero 2\n",
      "Count nonzero 0\n",
      "Cluster assign 7 2\n",
      "Cluster assign 9 2\n",
      "Cluster assign 10 2\n",
      "Cluster assign 13 2\n",
      "Cluster assign 16 2\n",
      "Cluster assign 18 2\n",
      "Cluster assign 23 2\n",
      "Cluster assign 26 2\n",
      "Cluster assign 27 2\n",
      "Cluster assign 29 2\n",
      "Cluster assign 30 2\n",
      "Cluster assign 34 2\n",
      "Cluster assign 36 2\n",
      "Cluster assign 41 2\n",
      "Cluster assign 44 2\n",
      "Cluster assign 50 2\n",
      "Cluster assign 55 2\n",
      "Cluster assign 57 2\n",
      "Cluster assign 65 2\n",
      "Cluster assign 67 2\n",
      "Cluster assign 71 2\n",
      "Cluster assign 77 2\n",
      "Cluster assign 85 2\n",
      "Cluster assign 86 2\n",
      "Cluster assign 91 2\n",
      "Cluster assign 92 2\n",
      "Cluster assign 96 2\n",
      "Cluster assign 98 2\n",
      "Cluster assign 102 2\n",
      "Cluster assign 103 2\n",
      "Cluster assign 104 2\n",
      "Cluster assign 107 2\n",
      "Cluster assign 109 2\n",
      "Cluster assign 110 2\n",
      "Cluster assign 112 2\n",
      "Cluster assign 114 2\n",
      "Cluster assign 116 2\n",
      "Cluster assign 120 2\n",
      "Cluster assign 121 2\n",
      "Cluster assign 127 2\n",
      "Cluster assign 134 2\n",
      "Cluster assign 137 2\n",
      "Cluster assign 141 2\n",
      "Cluster assign 152 2\n",
      "Cluster assign 153 2\n",
      "Cluster assign 159 2\n",
      "Cluster assign 161 2\n",
      "Cluster assign 164 2\n",
      "Cluster assign 166 2\n",
      "Cluster assign 174 2\n",
      "Cluster assign 179 2\n",
      "Cluster assign 180 2\n",
      "Cluster assign 181 2\n",
      "Cluster assign 186 2\n",
      "Cluster assign 187 2\n",
      "Cluster assign 191 2\n",
      "Cluster assign 194 2\n",
      "Cluster assign 195 2\n",
      "Cluster assign 197 2\n",
      "Cluster assign 201 2\n",
      "Cluster assign 202 2\n",
      "Cluster assign 204 2\n",
      "Cluster assign 207 2\n",
      "Cluster assign 209 2\n",
      "Cluster assign 213 2\n",
      "Cluster assign 214 2\n",
      "Cluster assign 217 2\n",
      "Cluster assign 221 2\n",
      "Cluster assign 222 2\n",
      "Cluster assign 223 2\n",
      "Cluster assign 225 2\n",
      "Cluster assign 227 2\n",
      "Cluster assign 231 2\n",
      "Cluster assign 232 2\n",
      "Cluster assign 234 2\n",
      "Cluster assign 236 2\n",
      "Cluster assign 238 2\n",
      "Cluster assign 241 2\n",
      "Cluster assign 244 2\n",
      "Cluster assign 247 2\n",
      "Cluster assign 249 2\n"
     ]
    },
    {
     "name": "stderr",
     "output_type": "stream",
     "text": [
      "C:\\Users\\mshoc\\Anaconda3\\lib\\site-packages\\numpy\\core\\numeric.py:301: FutureWarning: in the future, full(250, -1) will return an array of dtype('int32')\n",
      "  format(shape, fill_value, array(fill_value).dtype), FutureWarning)\n"
     ]
    }
   ],
   "source": [
    "def BreadthFirstSearchKernel(j, Fa, Xa):\n",
    "    tid = j\n",
    "    if Fa[tid]:\n",
    "        #print(\"tid\", tid, Fa[tid])\n",
    "        Fa[tid] = 0\n",
    "        Xa[tid] = 1\n",
    "        #print(\"rng from\", int(Va[j][1]), \"count\", int(Va[j][0]))\n",
    "        for k in range(int(Va[j][1]), int(Va[j][1])+int(Va[j][0])):\n",
    "            nid = int(Ea[k])\n",
    "            if not Xa[nid]:\n",
    "                #print(k, nid, not Xa[nid])\n",
    "                Fa[nid] = 1\n",
    "                \n",
    "def BreadthFirstSearch(i, cluster, visited, labels):\n",
    "    Xa = np.zeros(d.shape[0])\n",
    "    Fa = np.zeros(d.shape[0])\n",
    "    \n",
    "    Fa[i] = 1\n",
    "    \n",
    "    while np.count_nonzero(Fa) > 0:\n",
    "        #print(\"Count nonzero\", np.count_nonzero(Fa))\n",
    "        for j in range(d.shape[0]):\n",
    "            BreadthFirstSearchKernel(j, Fa, Xa)\n",
    "        print(\"Count nonzero\", np.count_nonzero(Fa))\n",
    "        \n",
    "    for j in range(d.shape[0]):\n",
    "        if Xa[j]:\n",
    "            visited[j] = 1\n",
    "            labels[j] = cluster\n",
    "            print(\"Cluster assign\", j, cluster)\n",
    "            \n",
    "def IdentifyCluster():\n",
    "    cluster = 0\n",
    "    labels = np.full( d.shape[0], -1 )\n",
    "    visited = np.zeros(d.shape[0])\n",
    "    for i in range(d.shape[0]):\n",
    "        if visited[i]:\n",
    "            continue\n",
    "        if not core[i]:\n",
    "            continue\n",
    "        print(\"Core \", i)\n",
    "        \n",
    "        visited[i] = 1\n",
    "        labels[i] = cluster\n",
    "        BreadthFirstSearch(i, cluster, visited, labels)\n",
    "        cluster += 1\n",
    "        \n",
    "    return (cluster, labels)\n",
    "\n",
    "(cluster, labels) = IdentifyCluster()\n"
   ]
  },
  {
   "cell_type": "code",
   "execution_count": 166,
   "metadata": {
    "collapsed": true
   },
   "outputs": [],
   "source": [
    "import pandas as pd\n",
    "\n",
    "df = pd.DataFrame.from_records( list( \n",
    "        map( lambda i: ( d[i][0], d[i][1], labels[i]),  range(d.shape[0])) ), columns=['x', 'y', 'class'] )"
   ]
  },
  {
   "cell_type": "code",
   "execution_count": 167,
   "metadata": {
    "collapsed": false
   },
   "outputs": [
    {
     "data": {
      "text/plain": [
       "<seaborn.axisgrid.PairGrid at 0x1972fba4b00>"
      ]
     },
     "execution_count": 167,
     "metadata": {},
     "output_type": "execute_result"
    },
    {
     "data": {
      "image/png": "[encoded data removed]",
      "text/plain": [
       "<matplotlib.figure.Figure at 0x1973113c8d0>"
      ]
     },
     "metadata": {},
     "output_type": "display_data"
    }
   ],
   "source": [
    "%matplotlib inline\n",
    "import seaborn as sns\n",
    "\n",
    "sns.pairplot(df, x_vars=['x'], y_vars=['y'], hue=\"class\", size=7)"
   ]
  }
 ],
 "metadata": {
  "anaconda-cloud": {},
  "kernelspec": {
   "display_name": "Python [default]",
   "language": "python",
   "name": "python3"
  },
  "language_info": {
   "codemirror_mode": {
    "name": "ipython",
    "version": 3
   },
   "file_extension": ".py",
   "mimetype": "text/x-python",
   "name": "python",
   "nbconvert_exporter": "python",
   "pygments_lexer": "ipython3",
   "version": "3.5.2"
  }
 },
 "nbformat": 4,
 "nbformat_minor": 1
}
